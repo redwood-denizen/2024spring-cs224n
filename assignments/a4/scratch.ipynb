{
 "cells": [
  {
   "cell_type": "code",
   "outputs": [],
   "source": [
    "x = \"stopit\""
   ],
   "metadata": {
    "collapsed": false,
    "ExecuteTime": {
     "end_time": "2024-08-23T00:47:00.073971Z",
     "start_time": "2024-08-23T00:47:00.063541Z"
    }
   },
   "id": "59d6107b1f1b8cb6",
   "execution_count": 1
  },
  {
   "cell_type": "code",
   "outputs": [
    {
     "data": {
      "text/plain": "'stopi'"
     },
     "execution_count": 2,
     "metadata": {},
     "output_type": "execute_result"
    }
   ],
   "source": [
    "x[:-1]"
   ],
   "metadata": {
    "collapsed": false,
    "ExecuteTime": {
     "end_time": "2024-08-23T00:47:15.641155Z",
     "start_time": "2024-08-23T00:47:15.632117Z"
    }
   },
   "id": "9da86363b23ba711",
   "execution_count": 2
  },
  {
   "cell_type": "code",
   "outputs": [
    {
     "name": "stdout",
     "output_type": "stream",
     "text": [
      "b=10\n",
      "l=7\n",
      "doc=1234567\n"
     ]
    }
   ],
   "source": [
    "import random\n",
    "doc = \"12345678901234567890123456789\"\n",
    "b = 10\n",
    "l = random.randint(4, int(b*7/8))\n",
    "print(f\"b={b}\\nl={l}\")\n",
    "doc = doc[0:l]\n",
    "print(f\"doc={doc}\")"
   ],
   "metadata": {
    "collapsed": false,
    "ExecuteTime": {
     "end_time": "2024-08-25T02:15:08.143087Z",
     "start_time": "2024-08-25T02:15:08.138658Z"
    }
   },
   "id": "16b2a4dc8a2f3844",
   "execution_count": 239
  },
  {
   "cell_type": "code",
   "outputs": [
    {
     "name": "stdout",
     "output_type": "stream",
     "text": [
      "lm=1\n",
      "start=2\n",
      "prefix=1\n",
      "masked_content=2\n",
      "suffix=34567\n"
     ]
    }
   ],
   "source": [
    "lm = random.randint(1,int(l/2))\n",
    "print(f\"lm={lm}\")\n",
    "start = random.randint(2,l-lm-1)\n",
    "print(f\"start={start}\")\n",
    "prefix = doc[0:start-1]\n",
    "print(f\"prefix={prefix}\")\n",
    "masked_content = doc[start-1:start+lm-1]\n",
    "print(f\"masked_content={masked_content}\")\n",
    "suffix = doc[start+lm-1:]\n",
    "print(f\"suffix={suffix}\\n\")"
   ],
   "metadata": {
    "collapsed": false,
    "ExecuteTime": {
     "end_time": "2024-08-25T02:15:42.684Z",
     "start_time": "2024-08-25T02:15:42.678283Z"
    }
   },
   "id": "fb689c81fa183cb5",
   "execution_count": 266
  },
  {
   "cell_type": "code",
   "outputs": [
    {
     "name": "stdout",
     "output_type": "stream",
     "text": [
      "masked_string=1⁇34567⁇2\n",
      "lp=2\n",
      "masked_string=1⁇34567⁇2□□\n",
      "lr=11\n"
     ]
    }
   ],
   "source": [
    "#rearrange: [prefix] MASK_CHAR [suffix] MASK_CHAR [masked_content] [pads]\n",
    "\n",
    "MASK_CHAR = \"\\u2047\" # the doublequestionmark character, for mask\n",
    "PAD_CHAR = \"\\u25A1\" # the empty square character, for pad\n",
    "masked_string = prefix + MASK_CHAR + suffix + MASK_CHAR + masked_content\n",
    "print(f\"masked_string={masked_string}\")\n",
    "lp = b - len(masked_string) + 1\n",
    "print(f\"lp={lp}\")\n",
    "masked_string = masked_string + PAD_CHAR*lp\n",
    "print(f\"masked_string={masked_string}\")\n",
    "lr = len(masked_string)\n",
    "print(f\"lr={lr}\")"
   ],
   "metadata": {
    "collapsed": false,
    "ExecuteTime": {
     "end_time": "2024-08-25T02:31:42.887126Z",
     "start_time": "2024-08-25T02:31:42.881350Z"
    }
   },
   "id": "e1db886e2890cc",
   "execution_count": 271
  },
  {
   "cell_type": "code",
   "outputs": [
    {
     "name": "stdout",
     "output_type": "stream",
     "text": [
      "x=1⁇34567⁇2□\n",
      "y=⁇34567⁇2□□\n"
     ]
    }
   ],
   "source": [
    "x = masked_string[:-1]\n",
    "print(f\"x={x}\")\n",
    "y = masked_string[1:]\n",
    "print(f\"y={y}\")"
   ],
   "metadata": {
    "collapsed": false,
    "ExecuteTime": {
     "end_time": "2024-08-25T02:35:31.653175Z",
     "start_time": "2024-08-25T02:35:31.649738Z"
    }
   },
   "id": "d50307bf4f17a9e4",
   "execution_count": 273
  },
  {
   "cell_type": "code",
   "outputs": [],
   "source": [
    "import torch\n",
    "x = torch.tensor([stoi[c] for c in x], dtype=torch.long)\n",
    "y = torch.tensor([stoi[c] for c in y], dtype=torch.long)"
   ],
   "metadata": {
    "collapsed": false
   },
   "id": "160e4f7c1fb0b1fc"
  },
  {
   "cell_type": "code",
   "outputs": [],
   "source": [
    "import math\n",
    "import torch\n",
    "def precompute_rotary_emb(dim, max_positions):\n",
    "    \"\"\"\n",
    "    RoPE uses the following sinusoidal functions to encode positions:\n",
    "\n",
    "    cos(t theta_i) and sin(t theta_i)\n",
    "        where t is the position and\n",
    "              theta_i = 1/10000^(-2(i-1)/dim) for i in [1, dim/2]\n",
    "\n",
    "    Since the maximum length of sequences is known, we can precompute\n",
    "    these values to speed up training.\n",
    "\n",
    "    Implement the precompute_rotary_emb function that returns a tensor of\n",
    "    shape (max_positions, dim/2, 2) where the last dimension contains\n",
    "    the cos and sin values for each position and each dimension of\n",
    "    the embedding.\n",
    "    \"\"\"\n",
    "\n",
    "    rope_cache = None\n",
    "    # TODO: [part g]\n",
    "    ### YOUR CODE HERE ###\n",
    "    # pass\n",
    "\n",
    "    def theta(i):\n",
    "        return 1/10000**(-2*(i-1)/dim)\n",
    "\n",
    "    assert dim % 2 == 0\n",
    "    rope_cache = torch.zeros(max_positions, int(dim/2), 2)\n",
    "    for t in range(max_positions):\n",
    "        for i in range(int(dim/2)):\n",
    "            rope_cache[t, i, 0] = math.cos((t+1) * theta(i+1))\n",
    "            rope_cache[t, i, 1] = math.sin((t+1) * theta(i+1))\n",
    "    ### END YOUR CODE ###\n",
    "    return rope_cache"
   ],
   "metadata": {
    "collapsed": false,
    "ExecuteTime": {
     "end_time": "2024-08-28T20:16:30.697495Z",
     "start_time": "2024-08-28T20:16:30.690943Z"
    }
   },
   "id": "80d33bef2f2a6281",
   "execution_count": 283
  },
  {
   "cell_type": "code",
   "outputs": [
    {
     "data": {
      "text/plain": "tensor([[[ 0.5403,  0.8415],\n         [-0.9018,  0.4321],\n         [ 0.6990, -0.7151]],\n\n        [[-0.4161,  0.9093],\n         [ 0.6266, -0.7793],\n         [-0.0229, -0.9997]]])"
     },
     "execution_count": 284,
     "metadata": {},
     "output_type": "execute_result"
    }
   ],
   "source": [
    "precompute_rotary_emb(6, 2)"
   ],
   "metadata": {
    "collapsed": false,
    "ExecuteTime": {
     "end_time": "2024-08-28T20:16:34.545527Z",
     "start_time": "2024-08-28T20:16:34.537461Z"
    }
   },
   "id": "24de18c5637af8e7",
   "execution_count": 284
  },
  {
   "cell_type": "code",
   "outputs": [
    {
     "data": {
      "text/plain": "tensor([[[ 0.5403,  0.8415],\n         [-0.9018,  0.4321],\n         [ 0.6990, -0.7151]],\n\n        [[-0.4161,  0.9093],\n         [ 0.6266, -0.7793],\n         [-0.0229, -0.9997]]])"
     },
     "execution_count": 301,
     "metadata": {},
     "output_type": "execute_result"
    }
   ],
   "source": [
    "rope_cache = precompute_rotary_emb(6, 2 )\n",
    "rope_cache"
   ],
   "metadata": {
    "collapsed": false,
    "ExecuteTime": {
     "end_time": "2024-08-28T21:33:20.185444Z",
     "start_time": "2024-08-28T21:33:20.178711Z"
    }
   },
   "id": "f9797c95c67bb5f7",
   "execution_count": 301
  },
  {
   "cell_type": "code",
   "outputs": [
    {
     "name": "stdout",
     "output_type": "stream",
     "text": [
      "x = tensor([[[0.3866, 0.7070, 0.0736, 0.6257, 0.7537, 0.2405],\n",
      "         [0.0553, 0.1678, 0.4462, 0.5760, 0.2281, 0.4143]]])\n",
      "x = tensor([[[[0.3866, 0.7070],\n",
      "          [0.0736, 0.6257],\n",
      "          [0.7537, 0.2405]],\n",
      "\n",
      "         [[0.0553, 0.1678],\n",
      "          [0.4462, 0.5760],\n",
      "          [0.2281, 0.4143]]]])\n",
      "x viewed as complex = tensor([[[0.3866+0.7070j, 0.0736+0.6257j, 0.7537+0.2405j],\n",
      "         [0.0553+0.1678j, 0.4462+0.5760j, 0.2281+0.4143j]]])\n"
     ]
    }
   ],
   "source": [
    "    B = 1\n",
    "    T = 2\n",
    "    d = 6\n",
    "    x = torch.rand(B, T, d)\n",
    "    print(f'x = {x}')\n",
    "    x = x.view(B, T, int(d/2), 2)\n",
    "    print(f'x = {x}')\n",
    "    print(f'x viewed as complex = {torch.view_as_complex(x)}')"
   ],
   "metadata": {
    "collapsed": false,
    "ExecuteTime": {
     "end_time": "2024-08-28T21:36:37.801370Z",
     "start_time": "2024-08-28T21:36:37.795122Z"
    }
   },
   "id": "f93fe2e9f7b72f55",
   "execution_count": 302
  },
  {
   "cell_type": "code",
   "outputs": [],
   "source": [
    "def apply_rotary_emb(x, rope_cache):\n",
    "    \"\"\"Apply the RoPE to the input tensor x.\"\"\"\n",
    "    # TODO: [part g]\n",
    "    # You might find the following functions useful to convert\n",
    "    # between real and complex numbers:\n",
    "\n",
    "    # torch.view_as_real - https://pytorch.org/docs/stable/generated/torch.view_as_real.html\n",
    "    # torch.view_as_complex - https://pytorch.org/docs/stable/generated/torch.view_as_complex.html\n",
    "\n",
    "    # Note that during inference, the length of the sequence might be different\n",
    "    # from the length of the precomputed values. In this case, you should use\n",
    "    # truncate the precomputed values to match the length of the sequence.\n",
    "\n",
    "    rotated_x = None\n",
    "    ### YOUR CODE HERE ###\n",
    "    # pass\n",
    "    print(f'RoTATING: {x}')\n",
    "    print(f'shape(x) = {x.size()}')\n",
    "    print(f'shape(rope_cache) = {rope_cache.size()}')\n",
    "    B, T, d = x.size()\n",
    "    assert d % 2 == 0\n",
    "    # if d < len(rope_cache):\n",
    "    #     rope_cache = rope_cache[:, :, :len(x)]\n",
    "    complex_rope_cache = torch.view_as_complex(rope_cache)  # (T, d/2)\n",
    "    complex_x = torch.view_as_complex(x.view(B, T, int(d/2), 2))  # (B, T, d/2)\n",
    "    complex_rotated_x = torch.rand_like(complex_x)\n",
    "    for b in range(B):\n",
    "        for t in range(T):\n",
    "            complex_rotated_x[b,t] = complex_rope_cache[t] * complex_x[b,t]\n",
    "            \n",
    "    rotated_x = torch.view_as_real(complex_rotated_x).view(B, T, d)\n",
    "    \n",
    "    ### END YOUR CODE ###\n",
    "    return rotated_x"
   ],
   "metadata": {
    "collapsed": false,
    "ExecuteTime": {
     "end_time": "2024-08-28T21:36:49.944363Z",
     "start_time": "2024-08-28T21:36:49.936870Z"
    }
   },
   "id": "dfb7e1e921e4d284",
   "execution_count": 303
  },
  {
   "cell_type": "code",
   "outputs": [
    {
     "name": "stdout",
     "output_type": "stream",
     "text": [
      "x = tensor([[[0.6121, 0.2404, 0.5566, 0.3531, 0.8683, 0.1742],\n",
      "         [0.8408, 0.6745, 0.8937, 0.8837, 0.1527, 0.5294]]])\n",
      "RoTATING: tensor([[[0.6121, 0.2404, 0.5566, 0.3531, 0.8683, 0.1742],\n",
      "         [0.8408, 0.6745, 0.8937, 0.8837, 0.1527, 0.5294]]])\n",
      "shape(x) = torch.Size([1, 2, 6])\n",
      "shape(rope_cache) = torch.Size([2, 3, 2])\n",
      "rotated_x = tensor([[[ 0.1284,  0.6450, -0.6545, -0.0780,  0.7315, -0.4991],\n",
      "         [-0.9632,  0.4838,  1.2487, -0.1427,  0.5258, -0.1648]]])\n"
     ]
    }
   ],
   "source": [
    "x = torch.rand(B, T, d)\n",
    "print(f'x = {x}')\n",
    "rotated_x = apply_rotary_emb(x, rope_cache)\n",
    "print(f'rotated_x = {rotated_x}')"
   ],
   "metadata": {
    "collapsed": false,
    "ExecuteTime": {
     "end_time": "2024-08-28T21:39:12.006638Z",
     "start_time": "2024-08-28T21:39:12.000064Z"
    }
   },
   "id": "b61b40ed28c4a892",
   "execution_count": 306
  }
 ],
 "metadata": {
  "kernelspec": {
   "display_name": "Python 3",
   "language": "python",
   "name": "python3"
  },
  "language_info": {
   "codemirror_mode": {
    "name": "ipython",
    "version": 2
   },
   "file_extension": ".py",
   "mimetype": "text/x-python",
   "name": "python",
   "nbconvert_exporter": "python",
   "pygments_lexer": "ipython2",
   "version": "2.7.6"
  }
 },
 "nbformat": 4,
 "nbformat_minor": 5
}
