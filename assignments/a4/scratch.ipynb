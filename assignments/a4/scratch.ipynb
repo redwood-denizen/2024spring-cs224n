{
 "cells": [
  {
   "cell_type": "code",
   "outputs": [],
   "source": [
    "x = \"stopit\""
   ],
   "metadata": {
    "collapsed": false,
    "ExecuteTime": {
     "end_time": "2024-08-23T00:47:00.073971Z",
     "start_time": "2024-08-23T00:47:00.063541Z"
    }
   },
   "id": "59d6107b1f1b8cb6",
   "execution_count": 1
  },
  {
   "cell_type": "code",
   "outputs": [
    {
     "data": {
      "text/plain": "'stopi'"
     },
     "execution_count": 2,
     "metadata": {},
     "output_type": "execute_result"
    }
   ],
   "source": [
    "x[:-1]"
   ],
   "metadata": {
    "collapsed": false,
    "ExecuteTime": {
     "end_time": "2024-08-23T00:47:15.641155Z",
     "start_time": "2024-08-23T00:47:15.632117Z"
    }
   },
   "id": "9da86363b23ba711",
   "execution_count": 2
  }
 ],
 "metadata": {
  "kernelspec": {
   "display_name": "Python 3",
   "language": "python",
   "name": "python3"
  },
  "language_info": {
   "codemirror_mode": {
    "name": "ipython",
    "version": 2
   },
   "file_extension": ".py",
   "mimetype": "text/x-python",
   "name": "python",
   "nbconvert_exporter": "python",
   "pygments_lexer": "ipython2",
   "version": "2.7.6"
  }
 },
 "nbformat": 4,
 "nbformat_minor": 5
}
