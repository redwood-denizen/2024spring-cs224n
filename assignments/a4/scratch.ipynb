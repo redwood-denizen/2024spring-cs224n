{
 "cells": [
  {
   "cell_type": "code",
   "outputs": [],
   "source": [
    "x = \"stopit\""
   ],
   "metadata": {
    "collapsed": false,
    "ExecuteTime": {
     "end_time": "2024-08-23T00:47:00.073971Z",
     "start_time": "2024-08-23T00:47:00.063541Z"
    }
   },
   "id": "59d6107b1f1b8cb6",
   "execution_count": 1
  },
  {
   "cell_type": "code",
   "outputs": [
    {
     "data": {
      "text/plain": "'stopi'"
     },
     "execution_count": 2,
     "metadata": {},
     "output_type": "execute_result"
    }
   ],
   "source": [
    "x[:-1]"
   ],
   "metadata": {
    "collapsed": false,
    "ExecuteTime": {
     "end_time": "2024-08-23T00:47:15.641155Z",
     "start_time": "2024-08-23T00:47:15.632117Z"
    }
   },
   "id": "9da86363b23ba711",
   "execution_count": 2
  },
  {
   "cell_type": "code",
   "outputs": [
    {
     "name": "stdout",
     "output_type": "stream",
     "text": [
      "b=10\n",
      "l=7\n",
      "doc=1234567\n"
     ]
    }
   ],
   "source": [
    "import random\n",
    "doc = \"12345678901234567890123456789\"\n",
    "b = 10\n",
    "l = random.randint(4, int(b*7/8))\n",
    "print(f\"b={b}\\nl={l}\")\n",
    "doc = doc[0:l]\n",
    "print(f\"doc={doc}\")"
   ],
   "metadata": {
    "collapsed": false,
    "ExecuteTime": {
     "end_time": "2024-08-25T02:15:08.143087Z",
     "start_time": "2024-08-25T02:15:08.138658Z"
    }
   },
   "id": "16b2a4dc8a2f3844",
   "execution_count": 239
  },
  {
   "cell_type": "code",
   "outputs": [
    {
     "name": "stdout",
     "output_type": "stream",
     "text": [
      "lm=1\n",
      "start=2\n",
      "prefix=1\n",
      "masked_content=2\n",
      "suffix=34567\n"
     ]
    }
   ],
   "source": [
    "lm = random.randint(1,int(l/2))\n",
    "print(f\"lm={lm}\")\n",
    "start = random.randint(2,l-lm-1)\n",
    "print(f\"start={start}\")\n",
    "prefix = doc[0:start-1]\n",
    "print(f\"prefix={prefix}\")\n",
    "masked_content = doc[start-1:start+lm-1]\n",
    "print(f\"masked_content={masked_content}\")\n",
    "suffix = doc[start+lm-1:]\n",
    "print(f\"suffix={suffix}\\n\")"
   ],
   "metadata": {
    "collapsed": false,
    "ExecuteTime": {
     "end_time": "2024-08-25T02:15:42.684Z",
     "start_time": "2024-08-25T02:15:42.678283Z"
    }
   },
   "id": "fb689c81fa183cb5",
   "execution_count": 266
  },
  {
   "cell_type": "code",
   "outputs": [
    {
     "name": "stdout",
     "output_type": "stream",
     "text": [
      "masked_string=1⁇34567⁇2\n",
      "lp=2\n",
      "masked_string=1⁇34567⁇2□□\n",
      "lr=11\n"
     ]
    }
   ],
   "source": [
    "#rearrange: [prefix] MASK_CHAR [suffix] MASK_CHAR [masked_content] [pads]\n",
    "\n",
    "MASK_CHAR = \"\\u2047\" # the doublequestionmark character, for mask\n",
    "PAD_CHAR = \"\\u25A1\" # the empty square character, for pad\n",
    "masked_string = prefix + MASK_CHAR + suffix + MASK_CHAR + masked_content\n",
    "print(f\"masked_string={masked_string}\")\n",
    "lp = b - len(masked_string) + 1\n",
    "print(f\"lp={lp}\")\n",
    "masked_string = masked_string + PAD_CHAR*lp\n",
    "print(f\"masked_string={masked_string}\")\n",
    "lr = len(masked_string)\n",
    "print(f\"lr={lr}\")"
   ],
   "metadata": {
    "collapsed": false,
    "ExecuteTime": {
     "end_time": "2024-08-25T02:31:42.887126Z",
     "start_time": "2024-08-25T02:31:42.881350Z"
    }
   },
   "id": "e1db886e2890cc",
   "execution_count": 271
  },
  {
   "cell_type": "code",
   "outputs": [
    {
     "name": "stdout",
     "output_type": "stream",
     "text": [
      "x=1⁇34567⁇2□\n",
      "y=⁇34567⁇2□□\n"
     ]
    }
   ],
   "source": [
    "x = masked_string[:-1]\n",
    "print(f\"x={x}\")\n",
    "y = masked_string[1:]\n",
    "print(f\"y={y}\")"
   ],
   "metadata": {
    "collapsed": false,
    "ExecuteTime": {
     "end_time": "2024-08-25T02:35:31.653175Z",
     "start_time": "2024-08-25T02:35:31.649738Z"
    }
   },
   "id": "d50307bf4f17a9e4",
   "execution_count": 273
  },
  {
   "cell_type": "code",
   "outputs": [],
   "source": [
    "import torch\n",
    "x = torch.tensor([stoi[c] for c in x], dtype=torch.long)\n",
    "y = torch.tensor([stoi[c] for c in y], dtype=torch.long)"
   ],
   "metadata": {
    "collapsed": false
   },
   "id": "160e4f7c1fb0b1fc"
  }
 ],
 "metadata": {
  "kernelspec": {
   "display_name": "Python 3",
   "language": "python",
   "name": "python3"
  },
  "language_info": {
   "codemirror_mode": {
    "name": "ipython",
    "version": 2
   },
   "file_extension": ".py",
   "mimetype": "text/x-python",
   "name": "python",
   "nbconvert_exporter": "python",
   "pygments_lexer": "ipython2",
   "version": "2.7.6"
  }
 },
 "nbformat": 4,
 "nbformat_minor": 5
}
