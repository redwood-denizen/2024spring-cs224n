{
 "cells": [
  {
   "cell_type": "code",
   "execution_count": 5,
   "id": "8d4b560bc974ec1c",
   "metadata": {
    "ExecuteTime": {
     "end_time": "2024-07-23T21:03:40.530852Z",
     "start_time": "2024-07-23T21:03:40.527162Z"
    }
   },
   "outputs": [
    {
     "name": "stdout",
     "output_type": "stream",
     "text": [
      "stack =  ['ROOT', 'cat']\n"
     ]
    }
   ],
   "source": [
    "stack = [\"ROOT\", \"the\", \"cat\"]\n",
    "stack = stack[0:-2] + [stack[-1]]\n",
    "print(\"stack = \", stack)"
   ]
  },
  {
   "cell_type": "code",
   "execution_count": 8,
   "id": "initial_id",
   "metadata": {
    "ExecuteTime": {
     "end_time": "2024-07-23T23:44:46.838821Z",
     "start_time": "2024-07-23T23:44:46.834247Z"
    },
    "collapsed": true
   },
   "outputs": [
    {
     "data": {
      "text/plain": [
       "['the']"
      ]
     },
     "execution_count": 8,
     "metadata": {},
     "output_type": "execute_result"
    }
   ],
   "source": [
    "stack = [\"ROOT\", \"the\"]\n",
    "stack[0:-2] + [stack[-1]]"
   ]
  },
  {
   "cell_type": "code",
   "execution_count": 9,
   "id": "be32f75a4fa7e721",
   "metadata": {
    "ExecuteTime": {
     "end_time": "2024-07-24T01:39:43.639126Z",
     "start_time": "2024-07-24T01:39:26.288265Z"
    }
   },
   "outputs": [
    {
     "name": "stderr",
     "output_type": "stream",
     "text": [
      "\n",
      "A module that was compiled using NumPy 1.x cannot be run in\n",
      "NumPy 2.0.0 as it may crash. To support both 1.x and 2.x\n",
      "versions of NumPy, modules must be compiled with NumPy 2.0.\n",
      "Some module may need to rebuild instead e.g. with 'pybind11>=2.12'.\n",
      "\n",
      "If you are a user of the module, the easiest solution will be to\n",
      "downgrade to 'numpy<2' or try to upgrade the affected module.\n",
      "We expect that some modules will need time to support NumPy 2.\n",
      "\n",
      "Traceback (most recent call last):  File \"<frozen runpy>\", line 198, in _run_module_as_main\n",
      "  File \"<frozen runpy>\", line 88, in _run_code\n",
      "  File \"/Users/Paul/opt/anaconda3/envs/cs224n_a2/lib/python3.12/site-packages/ipykernel_launcher.py\", line 18, in <module>\n",
      "    app.launch_new_instance()\n",
      "  File \"/Users/Paul/opt/anaconda3/envs/cs224n_a2/lib/python3.12/site-packages/traitlets/config/application.py\", line 1075, in launch_instance\n",
      "    app.start()\n",
      "  File \"/Users/Paul/opt/anaconda3/envs/cs224n_a2/lib/python3.12/site-packages/ipykernel/kernelapp.py\", line 739, in start\n",
      "    self.io_loop.start()\n",
      "  File \"/Users/Paul/opt/anaconda3/envs/cs224n_a2/lib/python3.12/site-packages/tornado/platform/asyncio.py\", line 205, in start\n",
      "    self.asyncio_loop.run_forever()\n",
      "  File \"/Users/Paul/opt/anaconda3/envs/cs224n_a2/lib/python3.12/asyncio/base_events.py\", line 641, in run_forever\n",
      "    self._run_once()\n",
      "  File \"/Users/Paul/opt/anaconda3/envs/cs224n_a2/lib/python3.12/asyncio/base_events.py\", line 1987, in _run_once\n",
      "    handle._run()\n",
      "  File \"/Users/Paul/opt/anaconda3/envs/cs224n_a2/lib/python3.12/asyncio/events.py\", line 88, in _run\n",
      "    self._context.run(self._callback, *self._args)\n",
      "  File \"/Users/Paul/opt/anaconda3/envs/cs224n_a2/lib/python3.12/site-packages/ipykernel/kernelbase.py\", line 545, in dispatch_queue\n",
      "    await self.process_one()\n",
      "  File \"/Users/Paul/opt/anaconda3/envs/cs224n_a2/lib/python3.12/site-packages/ipykernel/kernelbase.py\", line 534, in process_one\n",
      "    await dispatch(*args)\n",
      "  File \"/Users/Paul/opt/anaconda3/envs/cs224n_a2/lib/python3.12/site-packages/ipykernel/kernelbase.py\", line 437, in dispatch_shell\n",
      "    await result\n",
      "  File \"/Users/Paul/opt/anaconda3/envs/cs224n_a2/lib/python3.12/site-packages/ipykernel/ipkernel.py\", line 362, in execute_request\n",
      "    await super().execute_request(stream, ident, parent)\n",
      "  File \"/Users/Paul/opt/anaconda3/envs/cs224n_a2/lib/python3.12/site-packages/ipykernel/kernelbase.py\", line 778, in execute_request\n",
      "    reply_content = await reply_content\n",
      "  File \"/Users/Paul/opt/anaconda3/envs/cs224n_a2/lib/python3.12/site-packages/ipykernel/ipkernel.py\", line 449, in do_execute\n",
      "    res = shell.run_cell(\n",
      "  File \"/Users/Paul/opt/anaconda3/envs/cs224n_a2/lib/python3.12/site-packages/ipykernel/zmqshell.py\", line 549, in run_cell\n",
      "    return super().run_cell(*args, **kwargs)\n",
      "  File \"/Users/Paul/opt/anaconda3/envs/cs224n_a2/lib/python3.12/site-packages/IPython/core/interactiveshell.py\", line 3075, in run_cell\n",
      "    result = self._run_cell(\n",
      "  File \"/Users/Paul/opt/anaconda3/envs/cs224n_a2/lib/python3.12/site-packages/IPython/core/interactiveshell.py\", line 3130, in _run_cell\n",
      "    result = runner(coro)\n",
      "  File \"/Users/Paul/opt/anaconda3/envs/cs224n_a2/lib/python3.12/site-packages/IPython/core/async_helpers.py\", line 128, in _pseudo_sync_runner\n",
      "    coro.send(None)\n",
      "  File \"/Users/Paul/opt/anaconda3/envs/cs224n_a2/lib/python3.12/site-packages/IPython/core/interactiveshell.py\", line 3334, in run_cell_async\n",
      "    has_raised = await self.run_ast_nodes(code_ast.body, cell_name,\n",
      "  File \"/Users/Paul/opt/anaconda3/envs/cs224n_a2/lib/python3.12/site-packages/IPython/core/interactiveshell.py\", line 3517, in run_ast_nodes\n",
      "    if await self.run_code(code, result, async_=asy):\n",
      "  File \"/Users/Paul/opt/anaconda3/envs/cs224n_a2/lib/python3.12/site-packages/IPython/core/interactiveshell.py\", line 3577, in run_code\n",
      "    exec(code_obj, self.user_global_ns, self.user_ns)\n",
      "  File \"/var/folders/z7/vjsmrdfx2nvb9hnf6bgk3t6m0000gn/T/ipykernel_31563/3578589883.py\", line 1, in <module>\n",
      "    import torch\n",
      "  File \"/Users/Paul/opt/anaconda3/envs/cs224n_a2/lib/python3.12/site-packages/torch/__init__.py\", line 1477, in <module>\n",
      "    from .functional import *  # noqa: F403\n",
      "  File \"/Users/Paul/opt/anaconda3/envs/cs224n_a2/lib/python3.12/site-packages/torch/functional.py\", line 9, in <module>\n",
      "    import torch.nn.functional as F\n",
      "  File \"/Users/Paul/opt/anaconda3/envs/cs224n_a2/lib/python3.12/site-packages/torch/nn/__init__.py\", line 1, in <module>\n",
      "    from .modules import *  # noqa: F403\n",
      "  File \"/Users/Paul/opt/anaconda3/envs/cs224n_a2/lib/python3.12/site-packages/torch/nn/modules/__init__.py\", line 35, in <module>\n",
      "    from .transformer import TransformerEncoder, TransformerDecoder, \\\n",
      "  File \"/Users/Paul/opt/anaconda3/envs/cs224n_a2/lib/python3.12/site-packages/torch/nn/modules/transformer.py\", line 20, in <module>\n",
      "    device: torch.device = torch.device(torch._C._get_default_device()),  # torch.device('cpu'),\n",
      "/Users/Paul/opt/anaconda3/envs/cs224n_a2/lib/python3.12/site-packages/torch/nn/modules/transformer.py:20: UserWarning: Failed to initialize NumPy: _ARRAY_API not found (Triggered internally at /Users/runner/work/_temp/anaconda/conda-bld/pytorch_1711403213615/work/torch/csrc/utils/tensor_numpy.cpp:84.)\n",
      "  device: torch.device = torch.device(torch._C._get_default_device()),  # torch.device('cpu'),\n"
     ]
    }
   ],
   "source": [
    "import torch\n",
    "import torch.nn as nn\n",
    "\n",
    "# Import pprint, module we use for making our print statements prettier\n",
    "import pprint\n",
    "pp = pprint.PrettyPrinter()\n"
   ]
  },
  {
   "cell_type": "code",
   "execution_count": null,
   "id": "b03085466427aee",
   "metadata": {},
   "outputs": [],
   "source": [
    "w = [\n",
    "    [0, 2, 3],\n",
    "    [0, 1, 2]\n",
    "]\n",
    "\n",
    "e = [\n",
    "    [1, 11, 111, 1111, 11111],\n",
    "    [2, 22, 222, 2222, 22222],\n",
    "    [3, 33, 333, 3333, 33333],\n",
    "    [4, 44, 444, 4444, 44444]\n",
    "]\n",
    "torch.index_select(self.embeddings, 0, w)"
   ]
  },
  {
   "cell_type": "markdown",
   "id": "fcf9956841da9ae8",
   "metadata": {},
   "source": []
  },
  {
   "cell_type": "code",
   "execution_count": 17,
   "id": "e73d59d5ea3fab88",
   "metadata": {
    "ExecuteTime": {
     "end_time": "2024-07-24T17:23:38.847Z",
     "start_time": "2024-07-24T17:23:38.841441Z"
    }
   },
   "outputs": [
    {
     "name": "stdout",
     "output_type": "stream",
     "text": [
      "{'a': 3, 'the': 4, 'zebra': 2}\n"
     ]
    }
   ],
   "source": [
    "words = [\"a\", \"the\", \"zebra\", \"a\", \"the\"]\n",
    "word2ind = {}\n",
    "for i, w in enumerate(words):\n",
    "    word2ind[w] = i\n",
    "    \n",
    "pp.pprint(word2ind)\n"
   ]
  },
  {
   "cell_type": "code",
   "execution_count": 16,
   "id": "fcb4fbb99856f2e0",
   "metadata": {
    "ExecuteTime": {
     "end_time": "2024-07-24T17:13:48.504644Z",
     "start_time": "2024-07-24T17:13:48.496788Z"
    }
   },
   "outputs": [],
   "source": [
    "for i in range(0,0):\n",
    "    print(i)"
   ]
  },
  {
   "cell_type": "code",
   "execution_count": 19,
   "id": "a3d5767346c882ba",
   "metadata": {
    "ExecuteTime": {
     "end_time": "2024-07-24T19:12:41.971032Z",
     "start_time": "2024-07-24T19:12:41.965846Z"
    }
   },
   "outputs": [],
   "source": [
    "def distinct_words(corpus):\n",
    "    \"\"\" Determine a list of distinct words for the corpus.\n",
    "        Params:\n",
    "            corpus (list of list of strings): corpus of documents\n",
    "        Return:\n",
    "            corpus_words (list of strings): sorted list of distinct words across the corpus\n",
    "            n_corpus_words (integer): number of distinct words across the corpus\n",
    "    \"\"\"\n",
    "    corpus_words = []\n",
    "    n_corpus_words = -1\n",
    "\n",
    "    # ------------------\n",
    "    # Write your implementation here.\n",
    "\n",
    "    corpus_words = sorted(list(set([w for doc in corpus for w in doc])))\n",
    "    n_corpus_words = len(corpus_words)\n",
    "\n",
    "    # ------------------\n",
    "\n",
    "    return corpus_words, n_corpus_words"
   ]
  },
  {
   "cell_type": "code",
   "execution_count": 20,
   "id": "7d81fdc6c136c515",
   "metadata": {
    "ExecuteTime": {
     "end_time": "2024-07-24T19:12:46.000117Z",
     "start_time": "2024-07-24T19:12:45.994968Z"
    }
   },
   "outputs": [
    {
     "name": "stdout",
     "output_type": "stream",
     "text": [
      "words =  ['cat', 'hat', 'in', 'mat', 'on', 'peacefully', 'sat', 'slept', 'the']\n",
      "n_words =  9\n"
     ]
    }
   ],
   "source": [
    "corpus = [\n",
    "    [\"the\", \"cat\", \"in\", \"the\", \"hat\", \"sat\", \"on\", \"the\", \"mat\"],\n",
    "    [\"the\", \"cat\", \"slept\", \"peacefully\"]\n",
    "]\n",
    "words, n_words = distinct_words(corpus)\n",
    "print(\"words = \", words)\n",
    "print(\"n_words = \", n_words)\n",
    "M = None\n",
    "word2ind = {}\n"
   ]
  },
  {
   "cell_type": "code",
   "execution_count": 22,
   "id": "82084bf02cbf56b8",
   "metadata": {
    "ExecuteTime": {
     "end_time": "2024-07-24T19:14:10.971292Z",
     "start_time": "2024-07-24T19:14:10.964883Z"
    }
   },
   "outputs": [],
   "source": [
    "import numpy as np"
   ]
  },
  {
   "cell_type": "code",
   "execution_count": 25,
   "id": "c95f35cecf93eac7",
   "metadata": {
    "ExecuteTime": {
     "end_time": "2024-07-24T19:15:30.630412Z",
     "start_time": "2024-07-24T19:15:30.623547Z"
    }
   },
   "outputs": [
    {
     "name": "stdout",
     "output_type": "stream",
     "text": [
      "word2ind =  {'cat': 0, 'hat': 1, 'in': 2, 'mat': 3, 'on': 4, 'peacefully': 5, 'sat': 6, 'slept': 7, 'the': 8}\n",
      "M =  [[0. 0. 0. 0. 0. 0. 0. 0. 0.]\n",
      " [0. 0. 0. 0. 0. 0. 0. 0. 0.]\n",
      " [0. 0. 0. 0. 0. 0. 0. 0. 0.]\n",
      " [0. 0. 0. 0. 0. 0. 0. 0. 0.]\n",
      " [0. 0. 0. 0. 0. 0. 0. 0. 0.]\n",
      " [0. 0. 0. 0. 0. 0. 0. 0. 0.]\n",
      " [0. 0. 0. 0. 0. 0. 0. 0. 0.]\n",
      " [0. 0. 0. 0. 0. 0. 0. 0. 0.]\n",
      " [0. 0. 0. 0. 0. 0. 0. 0. 0.]]\n"
     ]
    }
   ],
   "source": [
    "M = np.zeros((n_words, n_words))\n",
    "for i, w in enumerate(words):\n",
    "    word2ind[w] = i\n",
    "\n",
    "print(\"word2ind = \", word2ind)\n",
    "print(\"M = \", M)\n",
    "    "
   ]
  },
  {
   "cell_type": "code",
   "execution_count": 1,
   "id": "e165005e58237c89",
   "metadata": {
    "ExecuteTime": {
     "end_time": "2024-07-24T19:57:03.780072Z",
     "start_time": "2024-07-24T19:57:02.522257Z"
    }
   },
   "outputs": [],
   "source": [
    "import matplotlib.pyplot as plt"
   ]
  },
  {
   "cell_type": "code",
   "execution_count": 3,
   "id": "30359de18a18cc60",
   "metadata": {
    "ExecuteTime": {
     "end_time": "2024-07-24T19:57:26.942011Z",
     "start_time": "2024-07-24T19:57:26.794032Z"
    }
   },
   "outputs": [
    {
     "data": {
      "image/png": "[encoded data removed]",
      "text/plain": [
       "<Figure size 640x480 with 1 Axes>"
      ]
     },
     "metadata": {},
     "output_type": "display_data"
    }
   ],
   "source": [
    "types = ['apple', 'orange', 'apple', 'pear', 'apple', 'orange', 'apple', 'pear']\n",
    "x_coords = [10, 10, 5, 4, 3, 20, 19, 21]\n",
    "y_coords = [21, 23, 12, 21, 10, 20, 14, 2]\n",
    "\n",
    "for i,type in enumerate(types):\n",
    "    x = x_coords[i]\n",
    "    y = y_coords[i]\n",
    "    plt.scatter(x, y, marker='x', color='red')\n",
    "    plt.text(x, y, type, fontsize=9)\n",
    "plt.show()"
   ]
  }
 ],
 "metadata": {
  "kernelspec": {
   "display_name": "cs224n",
   "language": "python",
   "name": "cs224n"
  },
  "language_info": {
   "codemirror_mode": {
    "name": "ipython",
    "version": 3
   },
   "file_extension": ".py",
   "mimetype": "text/x-python",
   "name": "python",
   "nbconvert_exporter": "python",
   "pygments_lexer": "ipython3",
   "version": "3.12.4"
  }
 },
 "nbformat": 4,
 "nbformat_minor": 5
}
