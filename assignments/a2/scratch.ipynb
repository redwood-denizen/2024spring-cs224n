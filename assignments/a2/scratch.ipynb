{
 "cells": [
  {
   "cell_type": "code",
   "outputs": [
    {
     "name": "stdout",
     "output_type": "stream",
     "text": [
      "stack =  ['ROOT', 'cat']\n"
     ]
    }
   ],
   "source": [
    "stack = [\"ROOT\", \"the\", \"cat\"]\n",
    "stack = stack[0:-2] + [stack[-1]]\n",
    "print(\"stack = \", stack)"
   ],
   "metadata": {
    "collapsed": false,
    "ExecuteTime": {
     "end_time": "2024-07-23T21:03:40.530852Z",
     "start_time": "2024-07-23T21:03:40.527162Z"
    }
   },
   "id": "8d4b560bc974ec1c",
   "execution_count": 5
  },
  {
   "cell_type": "code",
   "execution_count": 8,
   "id": "initial_id",
   "metadata": {
    "collapsed": true,
    "ExecuteTime": {
     "end_time": "2024-07-23T23:44:46.838821Z",
     "start_time": "2024-07-23T23:44:46.834247Z"
    }
   },
   "outputs": [
    {
     "data": {
      "text/plain": "['the']"
     },
     "execution_count": 8,
     "metadata": {},
     "output_type": "execute_result"
    }
   ],
   "source": [
    "stack = [\"ROOT\", \"the\"]\n",
    "stack[0:-2] + [stack[-1]]"
   ]
  }
 ],
 "metadata": {
  "kernelspec": {
   "display_name": "Python 3",
   "language": "python",
   "name": "python3"
  },
  "language_info": {
   "codemirror_mode": {
    "name": "ipython",
    "version": 2
   },
   "file_extension": ".py",
   "mimetype": "text/x-python",
   "name": "python",
   "nbconvert_exporter": "python",
   "pygments_lexer": "ipython2",
   "version": "2.7.6"
  }
 },
 "nbformat": 4,
 "nbformat_minor": 5
}
